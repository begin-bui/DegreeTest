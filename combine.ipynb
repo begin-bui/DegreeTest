{
 "cells": [
  {
   "cell_type": "markdown",
   "id": "a9f73bcd-a3fa-48f9-809a-bb62b461f0b0",
   "metadata": {},
   "source": [
    "## IC均值加权"
   ]
  },
  {
   "cell_type": "markdown",
   "id": "e66184d5-4c3b-4757-9ed8-ed0e238b528a",
   "metadata": {},
   "source": [
    "### 对factor013，015，016合成因子"
   ]
  },
  {
   "cell_type": "code",
   "execution_count": 26,
   "id": "661748e3-c442-41ee-9c50-e7af9420c8e9",
   "metadata": {},
   "outputs": [],
   "source": [
    "import pandas as pd\n",
    "import numpy as np\n",
    "\n",
    "# 读取施密特正交化后的因子数据\n",
    "orthogonalized_factors_df = pd.read_csv('zhengjiao2.csv')\n",
    "\n",
    "# 读取IC值数据\n",
    "ic_files = ['ic013.csv', 'ic015.csv', 'ic016.csv']\n",
    "ics = []\n",
    "\n",
    "for file in ic_files:\n",
    "    df_ic = pd.read_csv(file)\n",
    "    ics.append(df_ic)\n",
    "\n",
    "# 合成因子\n",
    "def weighted_factor_synthesis(orthogonalized_factors_df, ics):\n",
    "    # 创建一个空的DataFrame用于存储合成因子\n",
    "    combined_factor = pd.DataFrame(columns=['date', 'synthesized_factor'])\n",
    "\n",
    "    for i, ic_df in enumerate(ics):\n",
    "        # 检查日期是否在因子数据中出现\n",
    "        valid_dates = set(ic_df['date']).intersection(set(orthogonalized_factors_df['date']))\n",
    "        ic_df = ic_df[ic_df['date'].isin(valid_dates)]\n",
    "\n",
    "        # 使用IC均值作为权重\n",
    "        ic_mean = ic_df.iloc[:, 1:].mean(axis=1)\n",
    "\n",
    "        # 对每个日期进行加权合成因子\n",
    "        for date in valid_dates:\n",
    "            factors = orthogonalized_factors_df.loc[orthogonalized_factors_df['date'] == date, 'factor'].values\n",
    "            ic_weight = ic_mean[ic_df['date'] == date].values[0]\n",
    "            weighted_factor = factors * ic_weight\n",
    "            \n",
    "\n",
    "            # 使用pd.concat进行DataFrame拼接\n",
    "            temp_df = pd.DataFrame({'date': [date], 'synthesized_factor': [np.sum(weighted_factor)]})\n",
    "            combined_factor = pd.concat([combined_factor, temp_df], ignore_index=True)\n",
    "\n",
    "    return combined_factor\n",
    "\n",
    "# 调用合成因子函数\n",
    "combined_factor = weighted_factor_synthesis(orthogonalized_factors_df, ics)\n",
    "\n",
    "# 打印合成因子\n",
    "combined_factor.to_csv('icmeanfactor.csv')\n"
   ]
  },
  {
   "cell_type": "markdown",
   "id": "24e7a694-cb84-4849-9ec0-50293ffde955",
   "metadata": {},
   "source": [
    "## 加权"
   ]
  },
  {
   "cell_type": "code",
   "execution_count": 13,
   "id": "3622976c-556a-4095-aea5-b36e3c9b823e",
   "metadata": {
    "tags": []
   },
   "outputs": [],
   "source": [
    "import pandas as pd\n",
    "\n",
    "# 读取数据\n",
    "icmea_df = pd.read_csv('icmeanfactor.csv')\n",
    "\n",
    "# 按日期对 factor 进行求和\n",
    "icmea_sum = icmea_df.groupby('date')['synthesized_factor'].sum().reset_index()\n",
    "\n",
    "# 去除重复日期\n",
    "icmea_unique = icmea_sum.drop_duplicates(subset='date')\n",
    "\n",
    "# 按日期排序\n",
    "icmea_sorted = icmea_unique.sort_values('date')\n",
    "\n",
    "# 将结果保存为新的 CSV 文件\n",
    "icmea_sorted.to_csv('icmean_date.csv', index=False)\n"
   ]
  },
  {
   "cell_type": "markdown",
   "id": "7f4b08fd-d840-436c-b93f-b15b05bb9c4a",
   "metadata": {},
   "source": [
    "## 映射"
   ]
  },
  {
   "cell_type": "code",
   "execution_count": 11,
   "id": "16a4aed3-f45a-4a71-abb6-b99e4a16b556",
   "metadata": {},
   "outputs": [],
   "source": [
    "import pandas as pd\n",
    "\n",
    "# 读取数据\n",
    "icmean_date = pd.read_csv('icmean_date.csv')\n",
    "factor_data = pd.read_csv('factor_data013.csv')\n",
    "\n",
    "# 将两个数据框按日期合并\n",
    "merged_data = pd.merge(icmean_date, factor_data[['date', 'asset']], on='date', how='outer')\n",
    "\n",
    "# 删除 asset 列为空的行\n",
    "merged_data.dropna(subset=['asset'], inplace=True)\n",
    "\n",
    "\n",
    "# 填充 synthesized_factor 列的空值为均值\n",
    "mean_value = merged_data['synthesized_factor'].mean()\n",
    "merged_data['synthesized_factor'].fillna(mean_value, inplace=True)\n",
    "\n",
    "merged_data = merged_data[['date', 'asset', 'synthesized_factor']]\n",
    "# 保存结果到新的 CSV 文件\n",
    "merged_data.to_csv('icmean_date_asset.csv', index=False)\n"
   ]
  },
  {
   "cell_type": "code",
   "execution_count": 1,
   "id": "350a40c6-e16e-49b1-a98f-f627d08194ad",
   "metadata": {},
   "outputs": [
    {
     "data": {
      "text/html": [
       "<div>\n",
       "<style scoped>\n",
       "    .dataframe tbody tr th:only-of-type {\n",
       "        vertical-align: middle;\n",
       "    }\n",
       "\n",
       "    .dataframe tbody tr th {\n",
       "        vertical-align: top;\n",
       "    }\n",
       "\n",
       "    .dataframe thead th {\n",
       "        text-align: right;\n",
       "    }\n",
       "</style>\n",
       "<table border=\"1\" class=\"dataframe\">\n",
       "  <thead>\n",
       "    <tr style=\"text-align: right;\">\n",
       "      <th></th>\n",
       "      <th>date</th>\n",
       "      <th>asset</th>\n",
       "      <th>synthesized_factor</th>\n",
       "    </tr>\n",
       "  </thead>\n",
       "  <tbody>\n",
       "    <tr>\n",
       "      <th>0</th>\n",
       "      <td>2021-01-06</td>\n",
       "      <td>300612.SZ</td>\n",
       "      <td>-0.000567</td>\n",
       "    </tr>\n",
       "    <tr>\n",
       "      <th>1</th>\n",
       "      <td>2021-01-06</td>\n",
       "      <td>600526.SH</td>\n",
       "      <td>0.000131</td>\n",
       "    </tr>\n",
       "    <tr>\n",
       "      <th>2</th>\n",
       "      <td>2021-01-06</td>\n",
       "      <td>600527.SH</td>\n",
       "      <td>-0.005436</td>\n",
       "    </tr>\n",
       "    <tr>\n",
       "      <th>3</th>\n",
       "      <td>2021-01-06</td>\n",
       "      <td>600528.SH</td>\n",
       "      <td>-0.008112</td>\n",
       "    </tr>\n",
       "    <tr>\n",
       "      <th>4</th>\n",
       "      <td>2021-01-06</td>\n",
       "      <td>600529.SH</td>\n",
       "      <td>-0.003674</td>\n",
       "    </tr>\n",
       "  </tbody>\n",
       "</table>\n",
       "</div>"
      ],
      "text/plain": [
       "         date      asset  synthesized_factor\n",
       "0  2021-01-06  300612.SZ           -0.000567\n",
       "1  2021-01-06  600526.SH            0.000131\n",
       "2  2021-01-06  600527.SH           -0.005436\n",
       "3  2021-01-06  600528.SH           -0.008112\n",
       "4  2021-01-06  600529.SH           -0.003674"
      ]
     },
     "execution_count": 1,
     "metadata": {},
     "output_type": "execute_result"
    }
   ],
   "source": [
    "import pandas as pd\n",
    "df=pd.read_csv('icmean_date_asset.csv')\n",
    "df.head()"
   ]
  },
  {
   "cell_type": "code",
   "execution_count": null,
   "id": "754fbb6e-a806-486b-b49e-e4c5b1f81957",
   "metadata": {},
   "outputs": [],
   "source": []
  }
 ],
 "metadata": {
  "kernelspec": {
   "display_name": "Python 3 (ipykernel)",
   "language": "python",
   "name": "python3"
  },
  "language_info": {
   "codemirror_mode": {
    "name": "ipython",
    "version": 3
   },
   "file_extension": ".py",
   "mimetype": "text/x-python",
   "name": "python",
   "nbconvert_exporter": "python",
   "pygments_lexer": "ipython3",
   "version": "3.9.12"
  }
 },
 "nbformat": 4,
 "nbformat_minor": 5
}
