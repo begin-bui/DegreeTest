{
 "cells": [
  {
   "cell_type": "code",
   "execution_count": 19,
   "id": "ed0ffba8-63b2-40a2-898a-990037c544cd",
   "metadata": {},
   "outputs": [],
   "source": [
    "import pandas as pd\n",
    "import alphalens as al\n",
    "import numpy as np\n",
    "from datetime import datetime\n",
    "import statsmodels.api as sm\n",
    "import warnings\n",
    "warnings.filterwarnings(\"ignore\")"
   ]
  },
  {
   "cell_type": "markdown",
   "id": "dd1f869b-3fd2-4f1a-a245-059a94df05c5",
   "metadata": {},
   "source": [
    "## 读取factor"
   ]
  },
  {
   "cell_type": "code",
   "execution_count": 15,
   "id": "2c4c859b-b388-4f1e-8c59-4c8faba17022",
   "metadata": {},
   "outputs": [],
   "source": [
    "factor1=pd.read_csv('factor_data013.csv')\n",
    "factor2=pd.read_csv('factor_data015.csv')\n",
    "factor3=pd.read_csv('factor_data016.csv')\n",
    "# factor1 = factor1.set_index(['date', 'asset'])\n",
    "# factor2 = factor2.set_index(['date', 'asset'])\n",
    "# factor3 = factor3.set_index(['date', 'asset'])"
   ]
  },
  {
   "cell_type": "markdown",
   "id": "83c9335a-7b1d-4f53-9b9b-8062292b0392",
   "metadata": {},
   "source": [
    "## 读取收益序列"
   ]
  },
  {
   "cell_type": "code",
   "execution_count": null,
   "id": "272079bb-6ed5-4bca-bb0f-425249d5ad53",
   "metadata": {},
   "outputs": [],
   "source": [
    "mean_quant_rateret_bydate1=pd.read_csv('mean_quant_rateret_bydate013.csv')\n",
    "mean_quant_rateret_bydate2=pd.read_csv('mean_quant_rateret_bydate015.csv')\n",
    "mean_quant_rateret_bydate3=pd.read_csv('mean_quant_rateret_bydate016.csv')"
   ]
  },
  {
   "cell_type": "markdown",
   "id": "f834b1e9-ea2f-402d-b189-f58df506bef4",
   "metadata": {},
   "source": [
    "## 第二种施密特正交"
   ]
  },
  {
   "cell_type": "code",
   "execution_count": 15,
   "id": "deaadcef-0bee-486b-b288-4caade9a1e98",
   "metadata": {},
   "outputs": [],
   "source": [
    "import pandas as pd\n",
    "import numpy as np\n",
    "from scipy.linalg import orth\n",
    "# 读取因子数据和IC数据\n",
    "factor_files = ['factor_data013.csv', 'factor_data015.csv', 'factor_data016.csv']\n",
    "factors = []\n",
    "\n",
    "# 读取所有因子数据\n",
    "for file in factor_files:\n",
    "    factor_data = pd.read_csv(file)\n",
    "    factors.append(factor_data)\n",
    "\n",
    "# 合并所有因子数据为一个DataFrame\n",
    "all_factors = pd.concat(factors)\n",
    "\n",
    "# 获取唯一日期列表\n",
    "unique_dates = all_factors['date'].unique()\n",
    "\n",
    "# 施密特正交处理\n",
    "orthogonalized_factors = []\n",
    "\n",
    "for date in unique_dates:\n",
    "    # 选取特定日期的因子数据\n",
    "    subset_factors = all_factors[all_factors['date'] == date]\n",
    "    assets = subset_factors['asset'].values  # 提取资产信息\n",
    "    subset_factor = subset_factors['factor'].values.reshape(-1, 1)\n",
    "    \n",
    "    # 施密特正交化处理\n",
    "    orthogonalized = orth(subset_factor)\n",
    "    \n",
    "    # 添加到结果列表，包括日期和资产信息\n",
    "    df_orthogonalized = pd.DataFrame({'date': [date] * len(orthogonalized), 'asset': assets, 'factor': orthogonalized.flatten()})\n",
    "    orthogonalized_factors.append(df_orthogonalized)\n",
    "\n",
    "# 合并处理后的因子数据\n",
    "orthogonalized_factors_df = pd.concat(orthogonalized_factors)\n",
    "\n",
    "# 输出前几行施密特正交化后的因子数据\n",
    "orthogonalized_factors_df\n",
    "orthogonalized_factors_df.to_csv('zhengjiao2.csv')"
   ]
  },
  {
   "cell_type": "code",
   "execution_count": 2,
   "id": "024b4fac-e28f-4842-9548-af8aecd722a8",
   "metadata": {},
   "outputs": [
    {
     "data": {
      "text/html": [
       "<div>\n",
       "<style scoped>\n",
       "    .dataframe tbody tr th:only-of-type {\n",
       "        vertical-align: middle;\n",
       "    }\n",
       "\n",
       "    .dataframe tbody tr th {\n",
       "        vertical-align: top;\n",
       "    }\n",
       "\n",
       "    .dataframe thead th {\n",
       "        text-align: right;\n",
       "    }\n",
       "</style>\n",
       "<table border=\"1\" class=\"dataframe\">\n",
       "  <thead>\n",
       "    <tr style=\"text-align: right;\">\n",
       "      <th></th>\n",
       "      <th>Unnamed: 0</th>\n",
       "      <th>date</th>\n",
       "      <th>asset</th>\n",
       "      <th>factor</th>\n",
       "    </tr>\n",
       "  </thead>\n",
       "  <tbody>\n",
       "    <tr>\n",
       "      <th>0</th>\n",
       "      <td>0</td>\n",
       "      <td>2021-01-08</td>\n",
       "      <td>000001.SZ</td>\n",
       "      <td>0.005498</td>\n",
       "    </tr>\n",
       "    <tr>\n",
       "      <th>1</th>\n",
       "      <td>1</td>\n",
       "      <td>2021-01-08</td>\n",
       "      <td>000002.SZ</td>\n",
       "      <td>0.008929</td>\n",
       "    </tr>\n",
       "    <tr>\n",
       "      <th>2</th>\n",
       "      <td>2</td>\n",
       "      <td>2021-01-08</td>\n",
       "      <td>000004.SZ</td>\n",
       "      <td>0.013751</td>\n",
       "    </tr>\n",
       "    <tr>\n",
       "      <th>3</th>\n",
       "      <td>3</td>\n",
       "      <td>2021-01-08</td>\n",
       "      <td>000005.SZ</td>\n",
       "      <td>0.004892</td>\n",
       "    </tr>\n",
       "    <tr>\n",
       "      <th>4</th>\n",
       "      <td>4</td>\n",
       "      <td>2021-01-08</td>\n",
       "      <td>000006.SZ</td>\n",
       "      <td>0.011590</td>\n",
       "    </tr>\n",
       "  </tbody>\n",
       "</table>\n",
       "</div>"
      ],
      "text/plain": [
       "   Unnamed: 0        date      asset    factor\n",
       "0           0  2021-01-08  000001.SZ  0.005498\n",
       "1           1  2021-01-08  000002.SZ  0.008929\n",
       "2           2  2021-01-08  000004.SZ  0.013751\n",
       "3           3  2021-01-08  000005.SZ  0.004892\n",
       "4           4  2021-01-08  000006.SZ  0.011590"
      ]
     },
     "execution_count": 2,
     "metadata": {},
     "output_type": "execute_result"
    }
   ],
   "source": [
    "import pandas as pd\n",
    "df=pd.read_csv('zhengjiao2.csv')\n",
    "df.head()"
   ]
  },
  {
   "cell_type": "code",
   "execution_count": null,
   "id": "431dc5ac-49dc-4890-aebc-f2e5682bf8de",
   "metadata": {},
   "outputs": [],
   "source": []
  }
 ],
 "metadata": {
  "kernelspec": {
   "display_name": "Python 3 (ipykernel)",
   "language": "python",
   "name": "python3"
  },
  "language_info": {
   "codemirror_mode": {
    "name": "ipython",
    "version": 3
   },
   "file_extension": ".py",
   "mimetype": "text/x-python",
   "name": "python",
   "nbconvert_exporter": "python",
   "pygments_lexer": "ipython3",
   "version": "3.9.12"
  }
 },
 "nbformat": 4,
 "nbformat_minor": 5
}
