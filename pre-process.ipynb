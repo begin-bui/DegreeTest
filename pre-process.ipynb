{
 "cells": [
  {
   "cell_type": "code",
   "execution_count": 1,
   "id": "f3b3bb1a-2283-49c5-961c-188b466287fc",
   "metadata": {},
   "outputs": [],
   "source": [
    "import pandas as pd\n",
    "import alphalens as al\n",
    "import numpy as np\n",
    "from datetime import datetime\n",
    "import statsmodels.api as sm\n",
    "import warnings\n",
    "warnings.filterwarnings(\"ignore\")\n",
    "from functools import partial"
   ]
  },
  {
   "cell_type": "markdown",
   "id": "24dd67cf-d25f-432c-899e-7afbe134c80e",
   "metadata": {},
   "source": [
    "# <center>winsorize函数没改进，adjust函数进行了改进</center>"
   ]
  },
  {
   "cell_type": "markdown",
   "id": "5e93904f-d593-4a10-a4ec-a0b51d3d77e5",
   "metadata": {},
   "source": [
    "## 1.winsorize"
   ]
  },
  {
   "cell_type": "markdown",
   "id": "2b499ada-c2e2-4ef3-b99d-919f34e53396",
   "metadata": {},
   "source": [
    "1. **先执行先验去极值的操作：** 根据输入向量x的分位数来判断，将分布在0.1%和99.9%之外的数值替换为空值。\n",
    "2. **接下来的部分使用3倍标准差法去极值化：** 计算x的均值 mean 和标准差。通过判断每个值是否超出了均值加减3倍标准差的范围，并将超出范围的值替换为对应的上下限值。"
   ]
  },
  {
   "cell_type": "code",
   "execution_count": 2,
   "id": "bf50ebc4-744f-41c8-b43c-a4e9657d29a3",
   "metadata": {},
   "outputs": [],
   "source": [
    "def winsorize(x, method):   \n",
    "    '''去极值化函数，输入原始向量，输出去极值化后的factor、pct、cmv和industry（向量）'''\n",
    "    \n",
    "    # 先验去极值\n",
    "    if method == 'factor':\n",
    "        alpha = 0.002\n",
    "        up = x.quantile(1 - alpha / 2)\n",
    "        down = x.quantile(alpha / 2)\n",
    "        x = np.where((x > down) & (x < up), x, np.nan)  #先验信息，0.1%和99.9%之外的factor值改为np.nan\n",
    "        #x = np.where(x > 0, x, np.nan)  #对于某些财务因子，如PE和PB，去掉负值\n",
    "    else:\n",
    "        pass\n",
    "    \n",
    "    # 3-sigma去极值  \n",
    "    mean = np.mean(x)\n",
    "    std = np.std(x)\n",
    "    result = np.where(x > mean+3*std, mean+3*std, x)\n",
    "    result = np.where(x < mean-3*std, mean-3*std, result)\n",
    "    return result"
   ]
  },
  {
   "cell_type": "markdown",
   "id": "3c6aea2c-e7c5-48f2-aa4f-c403c733490f",
   "metadata": {},
   "source": [
    "## 2.process_day"
   ]
  },
  {
   "cell_type": "markdown",
   "id": "742cbe7d-be4e-4214-8f41-1005fa474591",
   "metadata": {},
   "source": [
    "1. **获取当天数据：** 从传入的data数据中，通过loc方法获取指定的数据。 \n",
    "2. **去极值化操作：** 使用winsorize先验去极值处理。\n",
    "3. **处理缺失值：** 删除包含缺失值的行。\n",
    "4. **平滑处理零值：** 对factor零值进行平滑处理，添加1。并检查factor和tcap列的标准差是否为零，如果是则使用平方根函数对factor处理。\n",
    "5. **Z-score标准化：** 计算factor和tcap列的均值和标准差，标准化处理。\n",
    "6. **生成行业哑变量**\n",
    "7. **回归中性化：** 创建一个回归模型，对回归模型进行拟合，获取残差值作为新的因子值。\n",
    "8. **重置索引**"
   ]
  },
  {
   "cell_type": "code",
   "execution_count": 3,
   "id": "22ddda8f-fcd4-4a46-868c-960c3d39ed76",
   "metadata": {},
   "outputs": [],
   "source": [
    "# 去极值化、标准化和回归\n",
    "# def process_day(day, data):\n",
    "#     da = data.loc[day].copy()\n",
    "#     # 去掉0到100之外的数值和3-sigma去极值\n",
    "#     da['factor'] = winsorize(da['factor'], 'factor')   \n",
    "#     da.dropna(inplace=True)\n",
    "#     # 标准化\n",
    "#     da[['factor', 'tcap']] = ((da[['factor', 'tcap']] - da[['factor', 'tcap']].mean()) / da[['factor', 'tcap']].std()).values\n",
    "#     # 行业哑变量\n",
    "#     industry_day = pd.get_dummies(da['first_industry_code'])  \n",
    "#     # 回归\n",
    "#     X = np.column_stack((da['tcap'], industry_day))\n",
    "#     X = sm.add_constant(X)\n",
    "#     model = sm.OLS(da['factor'], X)\n",
    "#     result = model.fit()\n",
    "#     # 残差值作为新的因子值\n",
    "#     da['factor'] = result.resid  \n",
    "#     da = da[['asset', 'factor']].reset_index()\n",
    "#     return da\n",
    "\n",
    "# 去极值化、标准化和回归\n",
    "def process_day(day, data):\n",
    "    da = data.loc[day].copy()\n",
    "    # 去掉0到100之外的数值和3-sigma去极值\n",
    "    da['factor'] = winsorize(da['factor'], 'factor')   \n",
    "    da.dropna(inplace=True)\n",
    "    # 平滑处理零值+1\n",
    "    da['factor'] = da['factor'] + 1\n",
    "    \n",
    "    # 标准化\n",
    "    std_factor_tcap = da[['factor', 'tcap']].std()\n",
    "    if std_factor_tcap.equals(0):\n",
    "        # 平方根处理\n",
    "        da['factor'] = np.sqrt(da['factor'])  \n",
    "\n",
    "    da[['factor', 'tcap']] = ((da[['factor', 'tcap']] - da[['factor', 'tcap']].mean()) / da[['factor', 'tcap']].std()).values\n",
    "    # 行业哑变量\n",
    "    industry_day = pd.get_dummies(da['first_industry_code'])  \n",
    "    # 回归\n",
    "    X = np.column_stack((da['tcap'], industry_day))\n",
    "    X = sm.add_constant(X)\n",
    "    model = sm.OLS(da['factor'], X)\n",
    "    result = model.fit()\n",
    "    # 残差值作为新的因子值\n",
    "    da['factor'] = result.resid  \n",
    "    da = da[['asset', 'factor']].reset_index()\n",
    "    return da"
   ]
  },
  {
   "cell_type": "markdown",
   "id": "208c9848-511b-4c24-b7de-1ed5dcf2b6a3",
   "metadata": {},
   "source": [
    "## 3.adjust2"
   ]
  },
  {
   "cell_type": "markdown",
   "id": "e8b2eeb7-8f36-48d8-9de9-7bf0b34c0457",
   "metadata": {},
   "source": [
    "1. **日期筛选和排序：** data按照日期设为索引然后排序。\n",
    "2. **获取所有交易日**\n",
    "3. **处理数据：** 使用map和partial对每一个交易日应用process_day函数，传入对应日期的数据和整体数据集data。每个交易日的数据处理结果被收集到一个列表中，并合并成一个调整因子。\n",
    "4. **左连接返回结果**"
   ]
  },
  {
   "cell_type": "code",
   "execution_count": 4,
   "id": "bd93f2b2-9fa5-4e13-9b64-9f2e0a6b51fd",
   "metadata": {},
   "outputs": [],
   "source": [
    "def adjust2(data):\n",
    "    # 筛选日期\n",
    "    data.set_index('date', inplace=True)\n",
    "    data.sort_index(inplace=True)\n",
    "    # 获取所有交易日\n",
    "    days = sorted(set(data.index))\n",
    "    # 处理\n",
    "    process_day_partial = partial(process_day, data=data)\n",
    "    adjusted_factor = pd.concat(map(process_day_partial, days), ignore_index=True)\n",
    "\n",
    "    data.reset_index(inplace=True)\n",
    "    \n",
    "    return adjusted_factor.merge(data[['asset', 'date']], how='left', on=['asset', 'date'])"
   ]
  },
  {
   "cell_type": "code",
   "execution_count": null,
   "id": "493803dd-25be-49a7-b019-0933e1e7e3c3",
   "metadata": {},
   "outputs": [],
   "source": []
  }
 ],
 "metadata": {
  "kernelspec": {
   "display_name": "alphatest",
   "language": "python",
   "name": "alphatest"
  },
  "language_info": {
   "codemirror_mode": {
    "name": "ipython",
    "version": 3
   },
   "file_extension": ".py",
   "mimetype": "text/x-python",
   "name": "python",
   "nbconvert_exporter": "python",
   "pygments_lexer": "ipython3",
   "version": "3.8.16"
  }
 },
 "nbformat": 4,
 "nbformat_minor": 5
}
