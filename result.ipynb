{
 "cells": [
  {
   "cell_type": "code",
   "execution_count": 68,
   "id": "9dc01700-55ec-4b3c-a5c1-1854d8495329",
   "metadata": {
    "tags": []
   },
   "outputs": [
    {
     "name": "stdout",
     "output_type": "stream",
     "text": [
      "年化收益率: 0.27178825950167107\n"
     ]
    }
   ],
   "source": [
    "import pandas as pd\n",
    "from datetime import datetime\n",
    "\n",
    "# 读取因子数据和股票数据\n",
    "factor_data = pd.read_csv('icmean_date_asset.csv') \n",
    "factor_data['date'] = pd.to_datetime(factor_data['date'])\n",
    "factor_data['date'] = pd.to_datetime(factor_data['date']) + pd.DateOffset(years=1)\n",
    "\n",
    "stock_data = pd.read_csv('kline_data_2022-2023.csv')\n",
    "stock_data['date'] = stock_data['date'].apply(lambda x: datetime.strptime(str(x), '%Y-%m-%d'))\n",
    "stock_data = stock_data.set_index(['asset', 'date'])\n",
    "\n",
    "# 合并因子数据和股票数据\n",
    "merged_data = pd.merge(stock_data, factor_data, on=['date', 'asset'], how='inner')\n",
    "\n",
    "# 设置初始投资金额和投资比例\n",
    "initial_investment = 100000  # 假设初始投资金额为 100,000\n",
    "investment_percentage = 0.1  # 假设每次投资比例为初始投资的 10%\n",
    "\n",
    "# 初始化记录交易的 DataFrame\n",
    "trades = pd.DataFrame(columns=['date', 'asset', 'action', 'price', 'quantity'])\n",
    "\n",
    "\n",
    "# 初始化记录每天现金的列表\n",
    "daily_cash = []\n",
    "\n",
    "\n",
    "# 模拟交易并记录每次交易\n",
    "cash = initial_investment\n",
    "portfolio_values = []\n",
    "for date, row in merged_data.iterrows():\n",
    "    daily_cash.append({'date': date, 'cash': cash})  # 记录每天的现金\n",
    "    if row['synthesized_factor'] >= 0:  # 买入信号\n",
    "        investment_amount = initial_investment * investment_percentage\n",
    "        portfolio_values.append(investment_amount * (row['close_price'] / row['open_price']))\n",
    "        \n",
    "        # 记录买入交易\n",
    "        new_trade = pd.DataFrame({'date': [date], 'asset': [row['asset']], 'action': ['buy'], 'price': [row['close_price']], 'quantity': [investment_amount / row['close_price']]})\n",
    "        trades = pd.concat([trades, new_trade], ignore_index=True)\n",
    "        \n",
    "    else:\n",
    "        # 如果持有该股票且股票因子低于阈值，卖出股票\n",
    "        if row['asset'] in trades['asset'].values and row['synthesized_factor'] < 0:\n",
    "            stock_to_sell = trades[(trades['asset'] == row['asset']) & (trades['action'] == 'buy')]\n",
    "            cash += row['close_price'] * stock_to_sell['quantity'].sum()\n",
    "            trades = trades[~((trades['asset'] == row['asset']) & (trades['action'] == 'buy'))]  # 移除已卖出的股票记录\n",
    "        \n",
    "        portfolio_values.append(cash + (trades[trades['action'] == 'buy']['price'] * trades[trades['action'] == 'buy']['quantity']).sum())\n",
    "        daily_cash[-1]['cash'] = cash  # 更新当天现金\n",
    "        \n",
    "# 计算收益率\n",
    "returns = (portfolio_values[-1] - portfolio_values[0]) / portfolio_values[0]\n",
    "annualized_returns = returns * (252 / len(portfolio_values))  # 假设一年有252个交易日\n",
    "\n",
    "\n",
    "# 输出结果\n",
    "print(f\"年化收益率: {annualized_returns}\")\n"
   ]
  },
  {
   "cell_type": "markdown",
   "id": "f40b1441-6dce-4411-ac53-201a60d73f23",
   "metadata": {},
   "source": [
    "## 2"
   ]
  },
  {
   "cell_type": "code",
   "execution_count": 72,
   "id": "99f9177f-43de-473d-ac62-d1ca504786c0",
   "metadata": {},
   "outputs": [
    {
     "name": "stdout",
     "output_type": "stream",
     "text": [
      "年化收益率: -4.498912301149641e-05\n"
     ]
    }
   ],
   "source": [
    "import pandas as pd\n",
    "from datetime import datetime\n",
    "\n",
    "# 读取因子数据和股票数据\n",
    "factor_data = pd.read_csv('icmean_date_asset.csv') \n",
    "factor_data['date'] = pd.to_datetime(factor_data['date'])\n",
    "factor_data['date'] = pd.to_datetime(factor_data['date']) + pd.DateOffset(years=1)\n",
    "\n",
    "stock_data = pd.read_csv('kline_data_2022-2023.csv')\n",
    "stock_data['date'] = stock_data['date'].apply(lambda x: datetime.strptime(str(x), '%Y-%m-%d'))\n",
    "stock_data = stock_data.set_index(['asset', 'date'])\n",
    "\n",
    "# 合并因子数据和股票数据\n",
    "merged_data = pd.merge(stock_data, factor_data, on=['date', 'asset'], how='inner')\n",
    "\n",
    "# 设置初始投资金额和投资比例\n",
    "initial_investment = 100000  # 假设初始投资金额为 100,000\n",
    "investment_percentage = 0.1  # 假设每次投资比例为初始投资的 10%\n",
    "\n",
    "# 初始化记录交易的 DataFrame\n",
    "trades = pd.DataFrame(columns=['date', 'asset', 'action', 'price', 'quantity'])\n",
    "\n",
    "\n",
    "# 初始化记录每天现金的列表\n",
    "daily_cash = []\n",
    "\n",
    "\n",
    "# 模拟交易并记录每次交易\n",
    "cash = initial_investment\n",
    "portfolio_values = []\n",
    "\n",
    "for date, group in merged_data.groupby('date'):\n",
    "    daily_cash.append({'date': date, 'cash': cash})  # 记录每天的现金\n",
    "    \n",
    "    for index, row in group.iterrows():\n",
    "        if row['synthesized_factor'] > 3:  # 买入信号\n",
    "            # ...（买入操作）\n",
    "            investment_amount = initial_investment * investment_percentage\n",
    "            portfolio_values.append(investment_amount * (row['close_price'] / row['open_price']))\n",
    "        \n",
    "            # 记录买入交易\n",
    "            new_trade = pd.DataFrame({'date': [date], 'asset': [row['asset']], 'action': ['buy'], 'price': [row['close_price']], 'quantity': [investment_amount / row['close_price']]})\n",
    "            trades = pd.concat([trades, new_trade], ignore_index=True)\n",
    "\n",
    "        else:\n",
    "            # ...（卖出操作）\n",
    "            stock_to_sell = trades[(trades['asset'] == row['asset']) & (trades['action'] == 'buy')]\n",
    "            cash += row['close_price'] * stock_to_sell['quantity'].sum()\n",
    "            trades = trades[~((trades['asset'] == row['asset']) & (trades['action'] == 'buy'))]  # 移除已卖出的股票记录\n",
    "\n",
    "    \n",
    "    # 更新当天的现金\n",
    "    cash = cash + (trades[trades['action'] == 'buy']['price'] * trades[trades['action'] == 'buy']['quantity']).sum()\n",
    "    daily_cash[-1]['cash'] = cash  # 更新当天现金\n",
    "\n",
    "# 将每日现金数据转换为 DataFrame 并保存到 CSV 文件\n",
    "daily_cash_df = pd.DataFrame(daily_cash)\n",
    "daily_cash_df.to_csv('daily_cash.csv', index=False)\n",
    "\n",
    "\n",
    "# 计算收益率\n",
    "returns = (portfolio_values[-1] - portfolio_values[0]) / portfolio_values[0]\n",
    "annualized_returns = returns * (252 / len(portfolio_values))  # 假设一年有252个交易日\n",
    "\n",
    "\n",
    "# 输出结果\n",
    "print(f\"年化收益率: {annualized_returns}\")\n"
   ]
  },
  {
   "cell_type": "code",
   "execution_count": 74,
   "id": "a8c5cca1-bac9-445c-8702-ce0c4add668e",
   "metadata": {},
   "outputs": [
    {
     "data": {
      "image/png": "[encoded data removed]",
      "text/plain": [
       "<Figure size 720x432 with 1 Axes>"
      ]
     },
     "metadata": {
      "needs_background": "light"
     },
     "output_type": "display_data"
    },
    {
     "name": "stdout",
     "output_type": "stream",
     "text": [
      "最大回撤: -0.1263193968471556\n",
      "调仓频率(每年): 61.09778334531727\n",
      "换手率: 0.24245152121157648\n"
     ]
    }
   ],
   "source": [
    "import matplotlib.pyplot as plt\n",
    "\n",
    "# 生成策略的收益曲线\n",
    "# dates = merged_data.reset_index()['date']  # 重置索引以获取日期列\n",
    "# plt.figure(figsize=(10, 6))\n",
    "# plt.plot(portfolio_values)\n",
    "# plt.xlabel('date')\n",
    "# plt.ylabel('value')\n",
    "# plt.title('line')\n",
    "# plt.grid(True)\n",
    "# plt.show()\n",
    "\n",
    "# 读取 daily_cash 数据\n",
    "daily_cash_df = pd.read_csv('daily_cash.csv')\n",
    "daily_cash_df['date'] = pd.to_datetime(daily_cash_df['date'])  # 转换日期列为 datetime64 类型\n",
    "\n",
    "# 绘制收益曲线\n",
    "plt.figure(figsize=(10, 6))\n",
    "plt.plot(daily_cash_df['date'], daily_cash_df['cash'], marker='o', linestyle='-', color='b')\n",
    "plt.xlabel('Date')\n",
    "plt.ylabel('Cash')\n",
    "plt.title('Daily Cash')\n",
    "plt.xticks(rotation=45)  # 旋转 x 轴标签，使其更易读\n",
    "plt.grid(True)\n",
    "plt.tight_layout()\n",
    "plt.show()\n",
    "\n",
    "\n",
    "# 计算最大回撤\n",
    "cumulative_returns = pd.Series(portfolio_value) / initial_investment\n",
    "drawdowns = (cumulative_returns - cumulative_returns.cummax())\n",
    "max_drawdown = drawdowns.min()\n",
    "\n",
    "# 计算调仓频率（这里简单地以买卖次数来计算）\n",
    "trades_count = sum(1 for val in portfolio_value if val != 0)\n",
    "trades_per_year = trades_count / (len(portfolio_value) / 252)  # 假设一年有252个交易日\n",
    "\n",
    "# 计算换手率（这里简单地以买卖次数与投资组合总额的比率来计算）\n",
    "turnover_rate = trades_count / len(portfolio_value)\n",
    "\n",
    "# 输出结果\n",
    "print(f\"最大回撤: {max_drawdown}\")\n",
    "print(f\"调仓频率(每年): {trades_per_year}\")\n",
    "print(f\"换手率: {turnover_rate}\")\n"
   ]
  },
  {
   "cell_type": "code",
   "execution_count": 61,
   "id": "c8344f80-9ec4-4300-a10f-3b21cb52827f",
   "metadata": {},
   "outputs": [
    {
     "name": "stdout",
     "output_type": "stream",
     "text": [
      "夏普比率： 0.002383454894509927\n"
     ]
    }
   ],
   "source": [
    "# 计算夏普比率\n",
    "daily_returns = pd.Series(portfolio_value).pct_change().dropna()\n",
    "sharpe_ratio = (daily_returns.mean() / daily_returns.std()) * (252**0.5)  # 假设一年有252个交易日\n",
    "print(f\"夏普比率: {sharpe_ratio}\")"
   ]
  },
  {
   "cell_type": "code",
   "execution_count": null,
   "id": "2e647716-c12f-4692-96ef-742e1c9ee7fd",
   "metadata": {},
   "outputs": [],
   "source": []
  }
 ],
 "metadata": {
  "kernelspec": {
   "display_name": "Python 3 (ipykernel)",
   "language": "python",
   "name": "python3"
  },
  "language_info": {
   "codemirror_mode": {
    "name": "ipython",
    "version": 3
   },
   "file_extension": ".py",
   "mimetype": "text/x-python",
   "name": "python",
   "nbconvert_exporter": "python",
   "pygments_lexer": "ipython3",
   "version": "3.9.12"
  }
 },
 "nbformat": 4,
 "nbformat_minor": 5
}
